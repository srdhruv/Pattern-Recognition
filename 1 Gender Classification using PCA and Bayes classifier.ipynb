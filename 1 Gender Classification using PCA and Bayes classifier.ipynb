{
 "cells": [
  {
   "cell_type": "markdown",
   "metadata": {},
   "source": [
    "# \n",
    "<b>Q_1 and Q_3.Consider the 128-dimensional feature vectors(d=128) given in the “gender_feature_vectors.csv” file. (2 classes, male and female)<br>\n",
    "a) Use PCA to reduce the dimension from d to d’.(Here d=128)<br>\n",
    "b) Display the eigenvalue based on increasing order, select the d’ of the corresponding\n",
    "eigenvector which is the appropriate dimension d’ ( select d’ S.T first 95% of λ values\n",
    "of the covariance matrix are considered).<br>\n",
    "c)Use d’ features to classify the testcases(any classification algorithm taught in class like Bayes classifier, minimum distance classifier,and so on)<br>\n",
    "\n",
    "Dataset Specifications:<br>\n",
    "\n",
    "Total number of samples = 800 <br>\n",
    "Number of classes = 2 (labeled as “male” and “female”)<br>\n",
    "Samples from “1 to 400” belongs to class “male” <br>\n",
    "Samples from “401 to 800” belongs to class “female” <br>\n",
    "Number of samples per class = 400 Number of dimensions = 128 <br>\n",
    "Use the following information to design classifier:<br>\n",
    "Number of test cases ( first10 in each class)  = 20 <br>\n",
    "Number of training featurevectors ( remaining 390 in each class) = 390 <br>\n",
    "Number of reduced dimensions= d’ (map 128 to d’ features vector)</b>\n",
    "\n",
    "<br><b>Give the comparative study for the above results w.r.t to classification accuracy in terms of\n",
    "the confusion matrix. </b>"
   ]
  },
  {
   "cell_type": "code",
   "execution_count": 13,
   "metadata": {},
   "outputs": [],
   "source": [
    "import numpy as np\n",
    "import pandas as pd\n",
    "from sympy import *"
   ]
  },
  {
   "cell_type": "code",
   "execution_count": 14,
   "metadata": {},
   "outputs": [
    {
     "name": "stdout",
     "output_type": "stream",
     "text": [
      "   Unnamed: 0 Unnamed: 1         0         1         2         3         4  \\\n",
      "0           1       male -0.066420  0.151611  0.027740  0.052771 -0.066105   \n",
      "1           2       male -0.030614  0.049667  0.008084 -0.050324  0.007649   \n",
      "2           3       male -0.096178  0.061127  0.035326 -0.035388 -0.090728   \n",
      "3           4       male -0.103057  0.085044  0.078333 -0.035873 -0.028163   \n",
      "4           5       male -0.125815  0.120046  0.023131 -0.042901  0.038215   \n",
      "\n",
      "          5         6         7  ...       118       119       120       121  \\\n",
      "0 -0.041232 -0.002637 -0.158467  ...  0.025989 -0.001087  0.027260 -0.046754   \n",
      "1 -0.063818 -0.019530 -0.119905  ...  0.044229 -0.023900 -0.028108  0.040618   \n",
      "2 -0.018634 -0.024315 -0.139786  ...  0.111141  0.059436 -0.029222  0.042115   \n",
      "3  0.004924  0.007829 -0.017016  ...  0.100793 -0.002644 -0.023388  0.029497   \n",
      "4 -0.049677 -0.054258 -0.130758  ...  0.090197  0.067527  0.039926  0.047469   \n",
      "\n",
      "        122       123       124       125       126       127  \n",
      "0 -0.118619 -0.163774 -0.000590 -0.076400  0.107497  0.001567  \n",
      "1 -0.146579 -0.141244  0.016162  0.017638  0.080610 -0.015930  \n",
      "2 -0.222173 -0.116908  0.093428  0.017391  0.057652  0.086116  \n",
      "3 -0.139830 -0.119243  0.005306 -0.015100  0.161575  0.062462  \n",
      "4 -0.056852 -0.076700  0.004966  0.028171  0.026041  0.084135  \n",
      "\n",
      "[5 rows x 130 columns]\n",
      "(800, 130)\n",
      "            0         1         2         3         4         5         6  \\\n",
      "0   -0.066420  0.151611  0.027740  0.052771 -0.066105 -0.041232 -0.002637   \n",
      "1   -0.030614  0.049667  0.008084 -0.050324  0.007649 -0.063818 -0.019530   \n",
      "2   -0.096178  0.061127  0.035326 -0.035388 -0.090728 -0.018634 -0.024315   \n",
      "3   -0.103057  0.085044  0.078333 -0.035873 -0.028163  0.004924  0.007829   \n",
      "4   -0.125815  0.120046  0.023131 -0.042901  0.038215 -0.049677 -0.054258   \n",
      "..        ...       ...       ...       ...       ...       ...       ...   \n",
      "795 -0.164731  0.064301  0.058630 -0.017420 -0.157600 -0.022536  0.002864   \n",
      "796 -0.095308  0.051095  0.092913 -0.101745 -0.083153 -0.028159  0.009090   \n",
      "797 -0.202852  0.037039  0.079731 -0.047156 -0.140062 -0.080246  0.057668   \n",
      "798 -0.088300  0.063530  0.049627 -0.026011 -0.172773  0.086218  0.042710   \n",
      "799 -0.156201  0.055165  0.142716 -0.115393 -0.128982 -0.139830 -0.037305   \n",
      "\n",
      "            7         8         9  ...       118       119       120  \\\n",
      "0   -0.158467  0.130467 -0.044872  ...  0.025989 -0.001087  0.027260   \n",
      "1   -0.119905  0.186553 -0.044821  ...  0.044229 -0.023900 -0.028108   \n",
      "2   -0.139786  0.052211 -0.052085  ...  0.111141  0.059436 -0.029222   \n",
      "3   -0.017016  0.114907 -0.056267  ...  0.100793 -0.002644 -0.023388   \n",
      "4   -0.130758  0.173457 -0.011889  ...  0.090197  0.067527  0.039926   \n",
      "..        ...       ...       ...  ...       ...       ...       ...   \n",
      "795 -0.072739  0.030554 -0.121480  ...  0.095115  0.007198 -0.004655   \n",
      "796 -0.114513  0.157421 -0.069665  ...  0.056078  0.119846  0.087470   \n",
      "797 -0.122083  0.165443 -0.104478  ...  0.066954  0.035684 -0.023112   \n",
      "798 -0.161852  0.185083 -0.162894  ...  0.039460  0.067547  0.040426   \n",
      "799 -0.101402  0.048473 -0.041618  ...  0.024955  0.066980 -0.002332   \n",
      "\n",
      "          121       122       123       124       125       126       127  \n",
      "0   -0.046754 -0.118619 -0.163774 -0.000590 -0.076400  0.107497  0.001567  \n",
      "1    0.040618 -0.146579 -0.141244  0.016162  0.017638  0.080610 -0.015930  \n",
      "2    0.042115 -0.222173 -0.116908  0.093428  0.017391  0.057652  0.086116  \n",
      "3    0.029497 -0.139830 -0.119243  0.005306 -0.015100  0.161575  0.062462  \n",
      "4    0.047469 -0.056852 -0.076700  0.004966  0.028171  0.026041  0.084135  \n",
      "..        ...       ...       ...       ...       ...       ...       ...  \n",
      "795  0.023957 -0.170753 -0.136630  0.041614  0.031600  0.019064  0.004384  \n",
      "796  0.017481 -0.096594 -0.084553  0.037709  0.030732 -0.083713  0.064970  \n",
      "797 -0.030452 -0.154243 -0.188270  0.071086  0.037384 -0.006257  0.039977  \n",
      "798  0.028007 -0.154515 -0.127736  0.046967  0.009701 -0.016942  0.048071  \n",
      "799 -0.045738 -0.110557 -0.014995 -0.002124 -0.010298 -0.028856  0.075323  \n",
      "\n",
      "[800 rows x 128 columns]\n"
     ]
    },
    {
     "data": {
      "text/plain": [
       "pandas.core.frame.DataFrame"
      ]
     },
     "execution_count": 14,
     "metadata": {},
     "output_type": "execute_result"
    }
   ],
   "source": [
    "data1=pd.read_csv(\"gender_feature_vectors.csv\")\n",
    "print(data1.head())\n",
    "print(data1.shape)\n",
    "df = (data1.iloc[:,2:])\n",
    "print(df)\n",
    "df.shape\n",
    "type(df)"
   ]
  },
  {
   "cell_type": "code",
   "execution_count": 15,
   "metadata": {},
   "outputs": [],
   "source": [
    "X = df.to_numpy()"
   ]
  },
  {
   "cell_type": "code",
   "execution_count": 16,
   "metadata": {},
   "outputs": [
    {
     "name": "stdout",
     "output_type": "stream",
     "text": [
      "total cols needed 63\n",
      "(800, 63)\n"
     ]
    }
   ],
   "source": [
    "def Dimensionality_Reduction(X):\n",
    "    # Covariance Matrix:\n",
    "    X_cov=np.cov(X.transpose())\n",
    "    \n",
    "    #Mean:\n",
    "    X_mean=np.mean(X,axis=0)\n",
    "    \n",
    "    #Eigen values and Eigen_Vectors:\n",
    "    eigen_values,eigen_vectors=np.linalg.eig(X_cov)  # FIrst column is the 1st eigen vector and 2nd column is the \n",
    "                                                     # 2nd eigen vector and soo on!....\n",
    "    \n",
    "    # Sorting Eigen values in the Decreasing Order:\n",
    "    idxs = np.argsort(eigen_values)[::-1]\n",
    "    eigen_values = eigen_values[idxs]\n",
    "    eigen_vectors = eigen_vectors[:,idxs]\n",
    "    total_eigen_sum = sum(e for e in eigen_values)\n",
    "    required = 0.95*total_eigen_sum\n",
    "    cumsum = 0\n",
    "    d1 = 0\n",
    "    for i in idxs:\n",
    "        d1 = i\n",
    "        cumsum+= eigen_values[i]\n",
    "        if(cumsum >= required):\n",
    "            break\n",
    " \n",
    "    print(\"total cols needed\",d1)\n",
    "    \n",
    "    #Picking top d1 eigen values and their Coressponding Eigen Vectors:\n",
    "    eigenvector_subset=eigen_vectors[:,0:d1]\n",
    "    Y=[]\n",
    "    for i in range(X.shape[0]):\n",
    "        p=np.dot(eigenvector_subset.transpose(),(X[i]-X_mean).transpose()).transpose()\n",
    "        Y.append(p)\n",
    "\n",
    "    Y=np.array(Y)\n",
    " \n",
    "    return(Y)\n",
    "    \n",
    "X_Projected=Dimensionality_Reduction(X)\n",
    "# print(X_Projected)\n",
    "print(X_Projected.shape)"
   ]
  },
  {
   "cell_type": "code",
   "execution_count": 17,
   "metadata": {},
   "outputs": [
    {
     "data": {
      "text/html": [
       "<div>\n",
       "<style scoped>\n",
       "    .dataframe tbody tr th:only-of-type {\n",
       "        vertical-align: middle;\n",
       "    }\n",
       "\n",
       "    .dataframe tbody tr th {\n",
       "        vertical-align: top;\n",
       "    }\n",
       "\n",
       "    .dataframe thead th {\n",
       "        text-align: right;\n",
       "    }\n",
       "</style>\n",
       "<table border=\"1\" class=\"dataframe\">\n",
       "  <thead>\n",
       "    <tr style=\"text-align: right;\">\n",
       "      <th></th>\n",
       "      <th>Unnamed: 1</th>\n",
       "    </tr>\n",
       "  </thead>\n",
       "  <tbody>\n",
       "    <tr>\n",
       "      <th>10</th>\n",
       "      <td>male</td>\n",
       "    </tr>\n",
       "    <tr>\n",
       "      <th>11</th>\n",
       "      <td>male</td>\n",
       "    </tr>\n",
       "    <tr>\n",
       "      <th>12</th>\n",
       "      <td>male</td>\n",
       "    </tr>\n",
       "    <tr>\n",
       "      <th>13</th>\n",
       "      <td>male</td>\n",
       "    </tr>\n",
       "    <tr>\n",
       "      <th>14</th>\n",
       "      <td>male</td>\n",
       "    </tr>\n",
       "    <tr>\n",
       "      <th>...</th>\n",
       "      <td>...</td>\n",
       "    </tr>\n",
       "    <tr>\n",
       "      <th>795</th>\n",
       "      <td>female</td>\n",
       "    </tr>\n",
       "    <tr>\n",
       "      <th>796</th>\n",
       "      <td>female</td>\n",
       "    </tr>\n",
       "    <tr>\n",
       "      <th>797</th>\n",
       "      <td>female</td>\n",
       "    </tr>\n",
       "    <tr>\n",
       "      <th>798</th>\n",
       "      <td>female</td>\n",
       "    </tr>\n",
       "    <tr>\n",
       "      <th>799</th>\n",
       "      <td>female</td>\n",
       "    </tr>\n",
       "  </tbody>\n",
       "</table>\n",
       "<p>780 rows × 1 columns</p>\n",
       "</div>"
      ],
      "text/plain": [
       "    Unnamed: 1\n",
       "10        male\n",
       "11        male\n",
       "12        male\n",
       "13        male\n",
       "14        male\n",
       "..         ...\n",
       "795     female\n",
       "796     female\n",
       "797     female\n",
       "798     female\n",
       "799     female\n",
       "\n",
       "[780 rows x 1 columns]"
      ]
     },
     "execution_count": 17,
     "metadata": {},
     "output_type": "execute_result"
    }
   ],
   "source": [
    "X_test = X_Projected[np.r_[0:10,400:410],:]  \n",
    "X_train = X_Projected[np.r_[10:400,410:800],:]\n",
    "Y_test = data1.iloc[np.r_[0:10,400:410],[1]] \n",
    "Y_train = data1.iloc[np.r_[10:400,410:800],[1]]\n",
    "#print(type(Y_test))\n",
    "X_train\n",
    "Y_train"
   ]
  },
  {
   "cell_type": "code",
   "execution_count": 18,
   "metadata": {},
   "outputs": [
    {
     "data": {
      "text/plain": [
       "(20, 63)"
      ]
     },
     "execution_count": 18,
     "metadata": {},
     "output_type": "execute_result"
    }
   ],
   "source": [
    "X_test\n",
    "X_test.shape"
   ]
  },
  {
   "cell_type": "code",
   "execution_count": 19,
   "metadata": {},
   "outputs": [
    {
     "name": "stderr",
     "output_type": "stream",
     "text": [
      "C:\\Users\\ASUS\\anaconda3\\lib\\site-packages\\sklearn\\utils\\validation.py:72: DataConversionWarning: A column-vector y was passed when a 1d array was expected. Please change the shape of y to (n_samples, ), for example using ravel().\n",
      "  return f(**kwargs)\n"
     ]
    },
    {
     "data": {
      "text/plain": [
       "GaussianNB()"
      ]
     },
     "execution_count": 19,
     "metadata": {},
     "output_type": "execute_result"
    }
   ],
   "source": [
    "from sklearn.naive_bayes import GaussianNB\n",
    "nv = GaussianNB() # create a classifier\n",
    "nv.fit(X_train,Y_train)"
   ]
  },
  {
   "cell_type": "markdown",
   "metadata": {},
   "source": []
  },
  {
   "cell_type": "code",
   "execution_count": 20,
   "metadata": {},
   "outputs": [
    {
     "name": "stdout",
     "output_type": "stream",
     "text": [
      "['male' 'male' 'male' 'male' 'male' 'male' 'male' 'female' 'male' 'male'\n",
      " 'male' 'female' 'female' 'female' 'female' 'female' 'female' 'female'\n",
      " 'female' 'female']\n"
     ]
    },
    {
     "data": {
      "text/plain": [
       "0.9"
      ]
     },
     "execution_count": 20,
     "metadata": {},
     "output_type": "execute_result"
    }
   ],
   "source": [
    "from sklearn.metrics import accuracy_score\n",
    "y_pred = nv.predict(X_test) # store the prediction data\n",
    "print(y_pred)\n",
    "accuracy_score(Y_test,y_pred)"
   ]
  },
  {
   "cell_type": "code",
   "execution_count": 21,
   "metadata": {},
   "outputs": [
    {
     "name": "stdout",
     "output_type": "stream",
     "text": [
      "['male' 'male' 'male' 'male' 'male' 'male' 'male' 'female' 'male' 'male'\n",
      " 'male' 'female' 'female' 'female' 'female' 'female' 'female' 'female'\n",
      " 'female' 'female']\n"
     ]
    },
    {
     "data": {
      "text/plain": [
       "0.9"
      ]
     },
     "execution_count": 21,
     "metadata": {},
     "output_type": "execute_result"
    }
   ],
   "source": [
    "from sklearn.metrics import accuracy_score\n",
    "y_pred = nv.predict(X_test) # store the prediction data\n",
    "print(y_pred)\n",
    "accuracy_score(Y_test,y_pred)"
   ]
  },
  {
   "cell_type": "code",
   "execution_count": 26,
   "metadata": {},
   "outputs": [
    {
     "name": "stdout",
     "output_type": "stream",
     "text": [
      "accuracy =  0.9\n"
     ]
    },
    {
     "name": "stderr",
     "output_type": "stream",
     "text": [
      "C:\\Users\\ASUS\\anaconda3\\lib\\site-packages\\sklearn\\utils\\validation.py:72: DataConversionWarning: A column-vector y was passed when a 1d array was expected. Please change the shape of y to (n_samples, ), for example using ravel().\n",
      "  return f(**kwargs)\n"
     ]
    },
    {
     "data": {
      "text/plain": [
       "<sklearn.metrics._plot.confusion_matrix.ConfusionMatrixDisplay at 0x2042be3aeb0>"
      ]
     },
     "execution_count": 26,
     "metadata": {},
     "output_type": "execute_result"
    },
    {
     "data": {
      "image/png": "[encoded data removed]",
      "text/plain": [
       "<Figure size 432x288 with 2 Axes>"
      ]
     },
     "metadata": {
      "needs_background": "light"
     },
     "output_type": "display_data"
    }
   ],
   "source": [
    "from sklearn.naive_bayes import GaussianNB\n",
    "from sklearn.preprocessing import LabelEncoder\n",
    "from sklearn.metrics import plot_confusion_matrix\n",
    "from sklearn.metrics import accuracy_score\n",
    "classifier = GaussianNB()\n",
    "\n",
    "classifier.fit(X_train,Y_train)\n",
    "y_pred = classifier.predict(X_test)\n",
    "print(\"accuracy = \", accuracy_score(Y_test, y_pred))\n",
    "\n",
    "plot_confusion_matrix(classifier, X_test, Y_test)"
   ]
  },
  {
   "cell_type": "code",
   "execution_count": null,
   "metadata": {},
   "outputs": [],
   "source": []
  },
  {
   "cell_type": "code",
   "execution_count": null,
   "metadata": {},
   "outputs": [],
   "source": []
  }
 ],
 "metadata": {
  "kernelspec": {
   "display_name": "Python 3",
   "language": "python",
   "name": "python3"
  },
  "language_info": {
   "codemirror_mode": {
    "name": "ipython",
    "version": 3
   },
   "file_extension": ".py",
   "mimetype": "text/x-python",
   "name": "python",
   "nbconvert_exporter": "python",
   "pygments_lexer": "ipython3",
   "version": "3.8.5"
  }
 },
 "nbformat": 4,
 "nbformat_minor": 4
}
