{
 "cells": [
  {
   "cell_type": "markdown",
   "metadata": {},
   "source": [
    "<h4>Bayes Classifier for Iris Dataset.</h4>Dataset Specifications:\n",
    "Total number of samples = 150<br>\n",
    "Number of classes = 3 (Iris setosa, Iris virginica, and Iris versicolor)\n",
    "<br>Number of samples in each class = 50\n",
    "<br>Use the following information to design classifier:\n",
    "<br>Number of training feature vectors ( first 40 in each class) = 40\n",
    "<br>Number of test feature vectors ( remaining 10 in each class) = 10\n",
    "<br>Number of dimensions = 4\n",
    "<br>Feature vector = [sepal length, sepal width, petal length, petal width]\n",
    "<br>\n",
    "If the samples follow a multivariate normal density, find the accuracy of classification for the test\n",
    "feature vectors."
   ]
  },
  {
   "cell_type": "code",
   "execution_count": 1,
   "metadata": {},
   "outputs": [],
   "source": [
    "import pandas as pd\n",
    "import numpy as np\n",
    "import matplotlib.pyplot as plt\n",
    "from math import sqrt\n",
    "from math import pi\n",
    "from math import exp\n",
    "from numpy.linalg import inv"
   ]
  },
  {
   "cell_type": "code",
   "execution_count": 18,
   "metadata": {},
   "outputs": [
    {
     "data": {
      "text/html": [
       "<div>\n",
       "<style scoped>\n",
       "    .dataframe tbody tr th:only-of-type {\n",
       "        vertical-align: middle;\n",
       "    }\n",
       "\n",
       "    .dataframe tbody tr th {\n",
       "        vertical-align: top;\n",
       "    }\n",
       "\n",
       "    .dataframe thead th {\n",
       "        text-align: right;\n",
       "    }\n",
       "</style>\n",
       "<table border=\"1\" class=\"dataframe\">\n",
       "  <thead>\n",
       "    <tr style=\"text-align: right;\">\n",
       "      <th></th>\n",
       "      <th>sepal.length</th>\n",
       "      <th>sepal.width</th>\n",
       "      <th>petal.length</th>\n",
       "      <th>petal.width</th>\n",
       "      <th>variety</th>\n",
       "    </tr>\n",
       "  </thead>\n",
       "  <tbody>\n",
       "    <tr>\n",
       "      <th>0</th>\n",
       "      <td>5.1</td>\n",
       "      <td>3.5</td>\n",
       "      <td>1.4</td>\n",
       "      <td>0.2</td>\n",
       "      <td>Setosa</td>\n",
       "    </tr>\n",
       "    <tr>\n",
       "      <th>1</th>\n",
       "      <td>4.9</td>\n",
       "      <td>3.0</td>\n",
       "      <td>1.4</td>\n",
       "      <td>0.2</td>\n",
       "      <td>Setosa</td>\n",
       "    </tr>\n",
       "    <tr>\n",
       "      <th>2</th>\n",
       "      <td>4.7</td>\n",
       "      <td>3.2</td>\n",
       "      <td>1.3</td>\n",
       "      <td>0.2</td>\n",
       "      <td>Setosa</td>\n",
       "    </tr>\n",
       "    <tr>\n",
       "      <th>3</th>\n",
       "      <td>4.6</td>\n",
       "      <td>3.1</td>\n",
       "      <td>1.5</td>\n",
       "      <td>0.2</td>\n",
       "      <td>Setosa</td>\n",
       "    </tr>\n",
       "    <tr>\n",
       "      <th>4</th>\n",
       "      <td>5.0</td>\n",
       "      <td>3.6</td>\n",
       "      <td>1.4</td>\n",
       "      <td>0.2</td>\n",
       "      <td>Setosa</td>\n",
       "    </tr>\n",
       "  </tbody>\n",
       "</table>\n",
       "</div>"
      ],
      "text/plain": [
       "   sepal.length  sepal.width  petal.length  petal.width variety\n",
       "0           5.1          3.5           1.4          0.2  Setosa\n",
       "1           4.9          3.0           1.4          0.2  Setosa\n",
       "2           4.7          3.2           1.3          0.2  Setosa\n",
       "3           4.6          3.1           1.5          0.2  Setosa\n",
       "4           5.0          3.6           1.4          0.2  Setosa"
      ]
     },
     "execution_count": 18,
     "metadata": {},
     "output_type": "execute_result"
    }
   ],
   "source": [
    "df = pd.read_csv(\"data/Iris_dataset.csv\")\n",
    "df.head()"
   ]
  },
  {
   "cell_type": "markdown",
   "metadata": {},
   "source": [
    "We are making use of property of dataset and dividing them in <br>the three diffrent classes given to us\n",
    "<br>We did it this way because its given in problem description"
   ]
  },
  {
   "cell_type": "code",
   "execution_count": 19,
   "metadata": {},
   "outputs": [],
   "source": [
    "X_train1 = X_train2 = X_train3 = pd.DataFrame()\n",
    "X_train1 = df.iloc[0:40,:4]\n",
    "X_train2 = X_train2.append(df.iloc[50:90,:4],ignore_index=True)\n",
    "X_train3 = X_train3.append(df.iloc[100:140,:4],ignore_index=True)\n",
    "Y_train1 = Y_train2 = Y_train3 = pd.DataFrame()\n",
    "Y_train1 = df.iloc[0:40,4:]\n",
    "Y_train2 = Y_train2.append(df.iloc[50:90,4:],ignore_index=True)\n",
    "Y_train3 = Y_train3.append(df.iloc[100:140,4:],ignore_index=True)\n",
    "\n",
    "X_test1 = X_test2 = X_test3 =  Y_test1 = Y_test2 = Y_test3 = pd.DataFrame()\n",
    "X_test1 = X_test1.append(df.iloc[40:50,:4],ignore_index=True).to_numpy()\n",
    "X_test2 = X_test2.append(df.iloc[90:100,:4],ignore_index=True).to_numpy()\n",
    "X_test3 = X_test3.append(df.iloc[140:150,:4],ignore_index=True).to_numpy()\n",
    "\n",
    "Y_test1 = Y_test1.append(df.iloc[40:50,4:],ignore_index=True).to_numpy()\n",
    "Y_test2 = Y_test2.append(df.iloc[90:100,4:],ignore_index=True).to_numpy()\n",
    "Y_test3 = Y_test3.append(df.iloc[140:150,4:],ignore_index=True).to_numpy()\n"
   ]
  },
  {
   "cell_type": "markdown",
   "metadata": {},
   "source": [
    "We now have separated training and testing samples of each type\n",
    "<br>So lets find the mean vectors and covariance matrix<br>for each of the class"
   ]
  },
  {
   "cell_type": "code",
   "execution_count": 24,
   "metadata": {},
   "outputs": [],
   "source": [
    "meanx1,meanx2,meanx3 = X_train1.mean(axis=0).to_numpy(),X_train2.mean(axis=0).to_numpy(),X_train3.mean(axis=0).to_numpy()\n",
    "cov1,cov2,cov3 = X_train1.cov().to_numpy(),X_train2.cov().to_numpy(),X_train3.cov().to_numpy()\n",
    "cov1_inv = inv(cov1)\n",
    "cov2_inv = inv(cov2)\n",
    "cov3_inv = inv(cov3)\n"
   ]
  },
  {
   "cell_type": "markdown",
   "metadata": {},
   "source": [
    "We know that the probablity that x will belong to any of the three<br>\n",
    "class is equal. So the prior probablity is 1/3 for each class<br>\n",
    "We need to calculate the likelihood that is P(X|C)for our goal<br> \n",
    "Our Goal is P(C|X) (that is posterior)<br>\n",
    "P(C|X) = P(X|C)*P(C)/P(X)<br>\n",
    "We can ignore P(X) since it does not depend on class C we can ignore it\n",
    "<br>So in the end we can multiply likelihood and Prior to get the posterior"
   ]
  },
  {
   "cell_type": "code",
   "execution_count": 35,
   "metadata": {},
   "outputs": [
    {
     "data": {
      "text/plain": [
       "2.6923633440763038e-05"
      ]
     },
     "execution_count": 35,
     "metadata": {},
     "output_type": "execute_result"
    }
   ],
   "source": [
    "#this function returns the likelihood\n",
    "def PXgiven(x,mean,cov,cov_inv):\n",
    "    term1 = (x - mean)\n",
    "    term2 = (term1.dot(cov_inv).dot(term1))/2\n",
    "    ex = exp(-term2)\n",
    "    d = len(x)\n",
    "    term3 = 1/((2*pi)**(d/2))*sqrt(np.linalg.det(cov))\n",
    "    return ex*term3\n",
    "\n",
    "PXgiven(X_train1.loc[0].to_numpy(),meanx1,cov1,cov1_inv)"
   ]
  },
  {
   "cell_type": "code",
   "execution_count": 36,
   "metadata": {},
   "outputs": [],
   "source": [
    "p1 = p2 = p3 = 1/3\n",
    "def findClass(x):\n",
    "    px1 = PXgiven(x,meanx1,cov1,cov1_inv)*p1\n",
    "    px2 = PXgiven(x,meanx2,cov2,cov2_inv)*p2\n",
    "    px3 = PXgiven(x,meanx3,cov3,cov3_inv)*p3\n",
    "    if(px1 > px2):\n",
    "        if(px1 > px3):\n",
    "            return \"Setosa\"\n",
    "    if(px2 > px1):\n",
    "        if(px2>px3):\n",
    "            return \"Versicolor\"\n",
    "    return \"Virginica\"\n",
    "    "
   ]
  },
  {
   "cell_type": "code",
   "execution_count": 37,
   "metadata": {},
   "outputs": [
    {
     "data": {
      "text/plain": [
       "'Virginica'"
      ]
     },
     "execution_count": 37,
     "metadata": {},
     "output_type": "execute_result"
    }
   ],
   "source": [
    "#An example of how find Class Works\n",
    "findClass(X_train3.iloc[0].to_numpy())"
   ]
  },
  {
   "cell_type": "code",
   "execution_count": 38,
   "metadata": {},
   "outputs": [],
   "source": [
    "class1 = class2 = class3 =  0\n",
    "for i in range(10):\n",
    "    if(findClass(X_test1[i]) == Y_test1[i]):\n",
    "        class1 += 1\n",
    "for i in range(10):\n",
    "    if(findClass(X_test2[i]) == Y_test2[i]):\n",
    "        class2 += 1\n",
    "for i in range(10):\n",
    "    if(findClass(X_test3[i]) == Y_test3[i]):\n",
    "        class3 += 1\n"
   ]
  },
  {
   "cell_type": "code",
   "execution_count": 39,
   "metadata": {},
   "outputs": [],
   "source": [
    "def accuracy(p,n):\n",
    "    return p/n*100\n"
   ]
  },
  {
   "cell_type": "code",
   "execution_count": 40,
   "metadata": {},
   "outputs": [
    {
     "name": "stdout",
     "output_type": "stream",
     "text": [
      "100.0 100.0 100.0\n"
     ]
    }
   ],
   "source": [
    "print(accuracy(class1,10),accuracy(class2,10),accuracy(class3,10))"
   ]
  },
  {
   "cell_type": "code",
   "execution_count": null,
   "metadata": {},
   "outputs": [],
   "source": []
  }
 ],
 "metadata": {
  "kernelspec": {
   "display_name": "Python 3",
   "language": "python",
   "name": "python3"
  },
  "language_info": {
   "codemirror_mode": {
    "name": "ipython",
    "version": 3
   },
   "file_extension": ".py",
   "mimetype": "text/x-python",
   "name": "python",
   "nbconvert_exporter": "python",
   "pygments_lexer": "ipython3",
   "version": "3.8.5"
  }
 },
 "nbformat": 4,
 "nbformat_minor": 5
}
